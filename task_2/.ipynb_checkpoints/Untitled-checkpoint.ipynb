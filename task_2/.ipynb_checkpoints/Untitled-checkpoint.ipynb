{
 "cells": [
  {
   "cell_type": "code",
   "execution_count": 45,
   "id": "34d174a5-45a1-4316-88fd-4cfab2597b38",
   "metadata": {},
   "outputs": [
    {
     "name": "stdout",
     "output_type": "stream",
     "text": [
      "Predicted Class: dog\n"
     ]
    }
   ],
   "source": [
    "# Loads the trained ResNet50 model and applies it to new images.\n",
    "# Preprocesses images exactly like in training (resize, normalize).\n",
    "# Runs inference and returns class label.\n",
    "# Uses torch.no_grad() to disable gradient calculations (for efficiency).\n",
    "\n",
    "import os\n",
    "import torch\n",
    "import torchvision.transforms as transforms\n",
    "from torchvision.models import resnet50\n",
    "import torch.nn as nn\n",
    "from PIL import Image\n",
    "\n",
    "# Define paths\n",
    "MODEL_PATH = \"./models/image_classifier/best_model.pth\"  # Path to trained model\n",
    "CLASS_NAMES = ['butterfly', 'cat', 'chicken', 'cow', 'dog', 'elephant', 'horse', 'sheep', 'spider', 'squirrel']  # Class labels\n",
    "IMAGE_SIZE = (128, 128)  # Image size used during training\n",
    "\n",
    "def infer_image_classification(image_path, model_path=MODEL_PATH, num_classes=10):\n",
    "    \"\"\"\n",
    "    Load the saved model and classify a single image.\n",
    "    Returns the predicted class label.\n",
    "    \"\"\"\n",
    "    device = torch.device(\"cuda\" if torch.cuda.is_available() else \"cpu\")\n",
    " \n",
    "    # 1.  Load the ResNet50 model\n",
    "    model = resnet50(weights=None) # No need for pretrained weights, we use our own\n",
    "    model.fc = nn.Linear(model.fc.in_features, num_classes) # Ensure same output layer\n",
    "\n",
    "    # 2ю  Load trained weights\n",
    "    model.load_state_dict(torch.load(model_path, map_location=device))\n",
    "    model.to(device)\n",
    "    model.eval()  # Set model to evaluation mode\n",
    "\n",
    "    # 3. Transform\n",
    "    transform = transforms.Compose([\n",
    "        transforms.Resize(IMAGE_SIZE),\n",
    "        transforms.ToTensor(),\n",
    "        transforms.Normalize([0.485, 0.456, 0.406],[0.229, 0.224, 0.225]) # Same normalization as training\n",
    "    ])\n",
    "\n",
    "    # 4. Load image\n",
    "    img = Image.open(image_path).convert('RGB')\n",
    "    img_tensor = transform(img).unsqueeze(0)  # (1, C, H, W)\n",
    "\n",
    "    # 5. Perform inference:\n",
    "    with torch.no_grad():\n",
    "        outputs = model(img_tensor)\n",
    "        _, pred_idx = torch.max(outputs, 1) # Get class index\n",
    "    \n",
    "    pred_idx = pred_idx.item()\n",
    "    predicted_label = CLASS_NAMES[pred_idx]\n",
    "                   \n",
    "    return predicted_label\n",
    "\n",
    "if __name__ == \"__main__\":\n",
    "    # Example usage:\n",
    "    test_image = \"test_image.png\"\n",
    "    predicted_class = infer_image_classification(test_image)\n",
    "    print(\"Predicted Class:\", predicted_class)\n"
   ]
  },
  {
   "cell_type": "code",
   "execution_count": null,
   "id": "973af8de-8965-4b99-ac77-7ea02b219d78",
   "metadata": {},
   "outputs": [],
   "source": []
  }
 ],
 "metadata": {
  "kernelspec": {
   "display_name": "Python [conda env:base] *",
   "language": "python",
   "name": "conda-base-py"
  },
  "language_info": {
   "codemirror_mode": {
    "name": "ipython",
    "version": 3
   },
   "file_extension": ".py",
   "mimetype": "text/x-python",
   "name": "python",
   "nbconvert_exporter": "python",
   "pygments_lexer": "ipython3",
   "version": "3.12.2"
  }
 },
 "nbformat": 4,
 "nbformat_minor": 5
}
