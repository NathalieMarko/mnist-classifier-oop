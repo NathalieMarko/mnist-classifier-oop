{
 "cells": [
  {
   "cell_type": "code",
   "execution_count": 6,
   "id": "b6e496df-86dc-4dd2-bfe5-4fc6e7f34df6",
   "metadata": {},
   "outputs": [
    {
     "name": "stdout",
     "output_type": "stream",
     "text": [
      "Decision: False\n"
     ]
    }
   ],
   "source": [
    "# animal_pipeline.py\n",
    "\n",
    "from infer_ner import infer_animals_in_text\n",
    "from infer_image_classification import infer_image_classification\n",
    "\n",
    "def check_animal_in_text_and_image(text, image_path):\n",
    "    \"\"\"\n",
    "    1. Extract animal(s) from the text using NER.\n",
    "    2. Classify the animal in the image.\n",
    "    3. Compare the results to decide True/False.\n",
    "    \"\"\"\n",
    "    extracted_animals = infer_animals_in_text(text, model_path=\"./models/ner_model\")\n",
    "    predicted_animal = infer_image_classification(\n",
    "        image_path, \n",
    "        model_path=\"./models/image_classifier/best_model.pth\",\n",
    "        num_classes=10\n",
    "    )\n",
    "    \n",
    "    # A simple approach: convert both to lowercase and see if any match:\n",
    "    extracted_animals_lower = extracted_animals\n",
    "    predicted_lower = predicted_animal\n",
    "\n",
    "    # Return True if there's a match\n",
    "    return predicted_lower in extracted_animals_lower\n",
    "\n",
    "if __name__ == \"__main__\":\n",
    "    # Example usage:\n",
    "    user_text = \"I think there is a cow in the photo\"\n",
    "    image_path = \"test_image.png\"\n",
    "    decision = check_animal_in_text_and_image(user_text, image_path)\n",
    "    print(\"Decision:\", decision)  # True or False\n"
   ]
  },
  {
   "cell_type": "code",
   "execution_count": null,
   "id": "7a966c37-b9e0-4b1b-9735-f0f448d9b538",
   "metadata": {},
   "outputs": [],
   "source": []
  }
 ],
 "metadata": {
  "kernelspec": {
   "display_name": "Python [conda env:base] *",
   "language": "python",
   "name": "conda-base-py"
  },
  "language_info": {
   "codemirror_mode": {
    "name": "ipython",
    "version": 3
   },
   "file_extension": ".py",
   "mimetype": "text/x-python",
   "name": "python",
   "nbconvert_exporter": "python",
   "pygments_lexer": "ipython3",
   "version": "3.12.2"
  }
 },
 "nbformat": 4,
 "nbformat_minor": 5
}
