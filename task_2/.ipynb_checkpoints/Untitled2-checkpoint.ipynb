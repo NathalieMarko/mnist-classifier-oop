{
 "cells": [
  {
   "cell_type": "code",
   "execution_count": null,
   "id": "94316277-1285-4814-800b-5919a0818ff7",
   "metadata": {},
   "outputs": [],
   "source": []
  },
  {
   "cell_type": "code",
   "execution_count": 7,
   "id": "919d61ea-06f3-4d91-bf18-b6e5aeb3b329",
   "metadata": {},
   "outputs": [
    {
     "data": {
      "application/vnd.jupyter.widget-view+json": {
       "model_id": "83fa0d0542734370b73d4e95487afbaa",
       "version_major": 2,
       "version_minor": 0
      },
      "text/plain": [
       "Map:   0%|          | 0/643 [00:00<?, ? examples/s]"
      ]
     },
     "metadata": {},
     "output_type": "display_data"
    },
    {
     "name": "stderr",
     "output_type": "stream",
     "text": [
      "Some weights of BertForTokenClassification were not initialized from the model checkpoint at bert-base-uncased and are newly initialized: ['classifier.bias', 'classifier.weight']\n",
      "You should probably TRAIN this model on a down-stream task to be able to use it for predictions and inference.\n",
      "/opt/anaconda3/lib/python3.12/site-packages/transformers/training_args.py:1594: FutureWarning: `evaluation_strategy` is deprecated and will be removed in version 4.46 of 🤗 Transformers. Use `eval_strategy` instead\n",
      "  warnings.warn(\n"
     ]
    },
    {
     "data": {
      "text/html": [
       "\n",
       "    <div>\n",
       "      \n",
       "      <progress value='325' max='325' style='width:300px; height:20px; vertical-align: middle;'></progress>\n",
       "      [325/325 04:06, Epoch 5/5]\n",
       "    </div>\n",
       "    <table border=\"1\" class=\"dataframe\">\n",
       "  <thead>\n",
       " <tr style=\"text-align: left;\">\n",
       "      <th>Epoch</th>\n",
       "      <th>Training Loss</th>\n",
       "      <th>Validation Loss</th>\n",
       "    </tr>\n",
       "  </thead>\n",
       "  <tbody>\n",
       "    <tr>\n",
       "      <td>1</td>\n",
       "      <td>No log</td>\n",
       "      <td>0.008106</td>\n",
       "    </tr>\n",
       "    <tr>\n",
       "      <td>2</td>\n",
       "      <td>No log</td>\n",
       "      <td>0.003916</td>\n",
       "    </tr>\n",
       "    <tr>\n",
       "      <td>3</td>\n",
       "      <td>No log</td>\n",
       "      <td>0.004483</td>\n",
       "    </tr>\n",
       "    <tr>\n",
       "      <td>4</td>\n",
       "      <td>No log</td>\n",
       "      <td>0.004965</td>\n",
       "    </tr>\n",
       "    <tr>\n",
       "      <td>5</td>\n",
       "      <td>No log</td>\n",
       "      <td>0.005033</td>\n",
       "    </tr>\n",
       "  </tbody>\n",
       "</table><p>"
      ],
      "text/plain": [
       "<IPython.core.display.HTML object>"
      ]
     },
     "metadata": {},
     "output_type": "display_data"
    },
    {
     "name": "stdout",
     "output_type": "stream",
     "text": [
      "✅ Model training complete! Saved to ./models/ner_animals\n"
     ]
    }
   ],
   "source": [
    "import requests\n",
    "from bs4 import BeautifulSoup\n",
    "import json\n",
    "import re\n",
    "import torch\n",
    "from transformers import (AutoModelForTokenClassification, AutoTokenizer, \n",
    "                          TrainingArguments, Trainer, DataCollatorForTokenClassification)\n",
    "from datasets import Dataset\n",
    "\n",
    "# Define Wikipedia URLs for Animal Articles\n",
    "ANIMAL_LIST = {'butterfly', 'cat', 'chicken', 'cow', 'dog', 'elephant', \n",
    "               'horse', 'sheep', 'spider', 'squirrel'}\n",
    "\n",
    "WIKI_URLS = [f\"https://en.wikipedia.org/wiki/{animal.capitalize()}\" for animal in ANIMAL_LIST]\n",
    "\n",
    "# Function to Scrape Wikipedia\n",
    "def scrape_wikipedia(url):\n",
    "    response = requests.get(url)\n",
    "    soup = BeautifulSoup(response.text, \"html.parser\")\n",
    "    paragraphs = [p.text for p in soup.find_all(\"p\")]\n",
    "    return paragraphs\n",
    "\n",
    "# Scrape and Clean Text Data\n",
    "def clean_text(text):\n",
    "    text = re.sub(r\"\\[\\d+\\]\", \"\", text)  # Remove citations like [1], [2]\n",
    "    text = re.sub(r\"\\s+\", \" \", text).strip()  # Normalize spaces\n",
    "    return text\n",
    "\n",
    "animal_sentences = []\n",
    "for url in WIKI_URLS:\n",
    "    animal_sentences.extend(scrape_wikipedia(url))\n",
    "\n",
    "clean_animal_sentences = [clean_text(sent) for sent in animal_sentences if len(sent.split()) > 5]\n",
    "\n",
    "# Auto-labeling for NER\n",
    "def annotate_sentences(sentences):\n",
    "    dataset = []\n",
    "    for sentence in sentences:\n",
    "        tokens = sentence.split()  \n",
    "        labels = [1 if token.lower() in ANIMAL_LIST else 0 for token in tokens]  # B-ANIMAL (1) or O (0)\n",
    "        \n",
    "        # Ensure tokens and labels are consistently formatted\n",
    "        dataset.append({\"tokens\": list(tokens), \"ner_tags\": list(labels)})\n",
    "    return dataset\n",
    "\n",
    "ner_dataset = annotate_sentences(clean_animal_sentences)\n",
    "\n",
    "# Convert to Hugging Face Dataset Format\n",
    "dataset = Dataset.from_list(ner_dataset)\n",
    "\n",
    "# Load Tokenizer and Tokenize Data\n",
    "MODEL_NAME = \"bert-base-uncased\"\n",
    "tokenizer = AutoTokenizer.from_pretrained(MODEL_NAME)\n",
    "\n",
    "def tokenize_and_align_labels(examples):\n",
    "    tokenized_inputs = tokenizer(\n",
    "        examples[\"tokens\"], truncation=True, is_split_into_words=True, padding=\"max_length\", max_length=128\n",
    "    )\n",
    "    \n",
    "    word_ids = tokenized_inputs.word_ids()  \n",
    "    labels = [-100 if word_id is None else examples[\"ner_tags\"][word_id] for word_id in word_ids]\n",
    "    \n",
    "    tokenized_inputs[\"labels\"] = labels\n",
    "    return tokenized_inputs\n",
    "\n",
    "# Map with `remove_columns`\n",
    "tokenized_dataset = dataset.map(tokenize_and_align_labels, batched=False, remove_columns=[\"tokens\", \"ner_tags\"])\n",
    "\n",
    "# Split into Train & Validation Sets\n",
    "split = tokenized_dataset.train_test_split(test_size=0.2)  # 80% Train, 20% Validation\n",
    "train_dataset = split[\"train\"]\n",
    "eval_dataset = split[\"test\"]\n",
    "\n",
    "# Load Pretrained NER Model\n",
    "model = AutoModelForTokenClassification.from_pretrained(MODEL_NAME, num_labels=2)  # 2 labels: O (0) & B-ANIMAL (1)\n",
    "\n",
    "# Define Training Arguments\n",
    "training_args = TrainingArguments(\n",
    "    output_dir=\"./models/ner_animals\",\n",
    "    eval_strategy=\"epoch\",\n",
    "    save_strategy=\"epoch\",\n",
    "    num_train_epochs=5,\n",
    "    per_device_train_batch_size=8,\n",
    "    per_device_eval_batch_size=8,\n",
    "    learning_rate=5e-5,\n",
    "    logging_dir=\"./logs\",\n",
    ")\n",
    "\n",
    "# Initialize Trainer\n",
    "data_collator = DataCollatorForTokenClassification(tokenizer)\n",
    "trainer = Trainer(\n",
    "    model=model,\n",
    "    args=training_args,\n",
    "    train_dataset=train_dataset,\n",
    "    eval_dataset=eval_dataset,\n",
    "    data_collator=data_collator,  \n",
    ")\n",
    "\n",
    "# Train and Save Model\n",
    "trainer.train()\n",
    "trainer.save_model(\"./models/ner_animals\")\n",
    "tokenizer.save_pretrained(\"./models/ner_animals\")\n",
    "\n",
    "print(\"Model training complete! Saved to ./models/ner_animals\")\n"
   ]
  },
  {
   "cell_type": "code",
   "execution_count": null,
   "id": "8e7f2c1c-53ac-4a66-ba8c-d55bb6b15e79",
   "metadata": {},
   "outputs": [],
   "source": []
  }
 ],
 "metadata": {
  "kernelspec": {
   "display_name": "Python [conda env:base] *",
   "language": "python",
   "name": "conda-base-py"
  },
  "language_info": {
   "codemirror_mode": {
    "name": "ipython",
    "version": 3
   },
   "file_extension": ".py",
   "mimetype": "text/x-python",
   "name": "python",
   "nbconvert_exporter": "python",
   "pygments_lexer": "ipython3",
   "version": "3.12.2"
  }
 },
 "nbformat": 4,
 "nbformat_minor": 5
}
