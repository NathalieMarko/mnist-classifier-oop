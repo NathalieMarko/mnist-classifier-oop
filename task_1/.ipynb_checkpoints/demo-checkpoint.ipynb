{
 "cells": [
  {
   "cell_type": "markdown",
   "id": "cd3b0b43-5c0e-4c53-837e-2876560051a2",
   "metadata": {},
   "source": [
    "# 1. Setting Up the Environment"
   ]
  },
  {
   "cell_type": "code",
   "execution_count": 5,
   "id": "f3d767bb-3bad-4543-a6e6-8519bb54f324",
   "metadata": {},
   "outputs": [],
   "source": [
    "#!pip install tensorflow scikit-learn numpy"
   ]
  },
  {
   "cell_type": "markdown",
   "id": "80af6a58-b9ae-48c5-b16a-ef152077d8a9",
   "metadata": {},
   "source": [
    "# 2. Import Modules:\n",
    "    - wrapper class (MnistClassifier).\n",
    "    - MNIST dataset."
   ]
  },
  {
   "cell_type": "code",
   "execution_count": 7,
   "id": "bf221eac-9147-4114-a09f-12dbbabd55bc",
   "metadata": {},
   "outputs": [],
   "source": [
    "from mnist_classifier import MnistClassifier\n",
    "from tensorflow.keras.datasets import mnist\n",
    "import numpy as np\n",
    "import matplotlib.pyplot as plt\n"
   ]
  },
  {
   "cell_type": "markdown",
   "id": "69528bbc-8c85-484c-b260-5172d93f6457",
   "metadata": {},
   "source": [
    "# 3. Initialize and Train a Model\n",
    "\n",
    "Decide which model to train: 'rf', 'nn', or 'cnn'"
   ]
  },
  {
   "cell_type": "code",
   "execution_count": 9,
   "id": "33c2b1c7-10e3-4955-8040-8edb5c7992d7",
   "metadata": {},
   "outputs": [
    {
     "name": "stdout",
     "output_type": "stream",
     "text": [
      "Epoch 1/5\n",
      "\u001b[1m1875/1875\u001b[0m \u001b[32m━━━━━━━━━━━━━━━━━━━━\u001b[0m\u001b[37m\u001b[0m \u001b[1m7s\u001b[0m 4ms/step - accuracy: 0.9126 - loss: 0.2951\n",
      "Epoch 2/5\n",
      "\u001b[1m1875/1875\u001b[0m \u001b[32m━━━━━━━━━━━━━━━━━━━━\u001b[0m\u001b[37m\u001b[0m \u001b[1m9s\u001b[0m 5ms/step - accuracy: 0.9839 - loss: 0.0537\n",
      "Epoch 3/5\n",
      "\u001b[1m1875/1875\u001b[0m \u001b[32m━━━━━━━━━━━━━━━━━━━━\u001b[0m\u001b[37m\u001b[0m \u001b[1m10s\u001b[0m 5ms/step - accuracy: 0.9896 - loss: 0.0321\n",
      "Epoch 4/5\n",
      "\u001b[1m1875/1875\u001b[0m \u001b[32m━━━━━━━━━━━━━━━━━━━━\u001b[0m\u001b[37m\u001b[0m \u001b[1m10s\u001b[0m 5ms/step - accuracy: 0.9948 - loss: 0.0181\n",
      "Epoch 5/5\n",
      "\u001b[1m1875/1875\u001b[0m \u001b[32m━━━━━━━━━━━━━━━━━━━━\u001b[0m\u001b[37m\u001b[0m \u001b[1m9s\u001b[0m 5ms/step - accuracy: 0.9958 - loss: 0.0132\n",
      "Training completed for cnn model.\n"
     ]
    }
   ],
   "source": [
    "algorithm = \"cnn\"\n",
    "\n",
    "# Load dataset\n",
    "(X_train, y_train), (X_test, y_test) = mnist.load_data()\n",
    "\n",
    "# Initialize classifier\n",
    "model = MnistClassifier(algorithm)\n",
    "\n",
    "# Train model\n",
    "model.train()\n",
    "\n",
    "print(f\"Training completed for {algorithm} model.\")\n"
   ]
  },
  {
   "cell_type": "markdown",
   "id": "4407ca3a-7617-443f-9583-1e37e44653cc",
   "metadata": {},
   "source": [
    "# 4. Make Predictions\n",
    "\n",
    "Now, let's test on new data:"
   ]
  },
  {
   "cell_type": "code",
   "execution_count": 11,
   "id": "f923bd68-4ab3-434d-9c61-8f552b61fe67",
   "metadata": {},
   "outputs": [
    {
     "name": "stdout",
     "output_type": "stream",
     "text": [
      "\u001b[1m1/1\u001b[0m \u001b[32m━━━━━━━━━━━━━━━━━━━━\u001b[0m\u001b[37m\u001b[0m \u001b[1m0s\u001b[0m 28ms/step\n",
      "Predictions: [7 2 1 0 4 1 4 9 5 9]\n",
      "Actual labels: [7 2 1 0 4 1 4 9 5 9]\n"
     ]
    }
   ],
   "source": [
    "# Make predictions\n",
    "predictions = model.predict(X_test[:10])\n",
    "\n",
    "print(\"Predictions:\", predictions.round(3))\n",
    "print(\"Actual labels:\", y_test[:10])\n"
   ]
  },
  {
   "cell_type": "markdown",
   "id": "b29c53ad-7720-4833-9f86-34c88769832e",
   "metadata": {},
   "source": [
    "# 5. Visualizing Predictions\n",
    "\n",
    "**To visually inspect results, plot some test images along with the predicted labels.**"
   ]
  },
  {
   "cell_type": "code",
   "execution_count": 13,
   "id": "656455d8-d7f6-478a-8120-707790379b69",
   "metadata": {},
   "outputs": [
    {
     "data": {
      "image/png": "[encoded data removed]",
      "text/plain": [
       "<Figure size 1000x500 with 10 Axes>"
      ]
     },
     "metadata": {},
     "output_type": "display_data"
    }
   ],
   "source": [
    "def visualize_predictions(X_test, y_test, predictions):\n",
    "    fig, axes = plt.subplots(2, 5, figsize=(10, 5))\n",
    "    axes = axes.flatten()\n",
    "    \n",
    "    for i in range(10):\n",
    "        axes[i].imshow(X_test[i], cmap=\"gray\")\n",
    "        axes[i].set_title(f\"Pred: {predictions[i]}, Actual: {y_test[i]}\")\n",
    "        axes[i].axis(\"off\")\n",
    "\n",
    "    plt.show()\n",
    "\n",
    "visualize_predictions(X_test, y_test, predictions)\n"
   ]
  },
  {
   "cell_type": "markdown",
   "id": "97524db6-9389-4378-90d7-e837cc34aac5",
   "metadata": {},
   "source": [
    "# 6. Saving and Loading Models"
   ]
  },
  {
   "cell_type": "markdown",
   "id": "2beb81fc-44eb-4f1f-92dd-bc6614fb21d5",
   "metadata": {},
   "source": [
    "**if you need to save a trained mode:**"
   ]
  },
  {
   "cell_type": "code",
   "execution_count": 5,
   "id": "1ed0e613-12a3-48ae-98c7-d541a97e8ee0",
   "metadata": {},
   "outputs": [],
   "source": [
    "#import joblib  # For RandomForest\n",
    "#from tensorflow.keras.models import save_model, load_model\n",
    "\n",
    "#def save_model_file(model, algorithm):\n",
    "#    if algorithm == \"rf\":\n",
    "#        joblib.dump(model.classifier.model, f\"{algorithm}_model.pkl\")\n",
    "#    else:\n",
    "#        model.classifier.model.save(f\"{algorithm}_model.h5\")\n",
    "#    print(f\"You model, using {algorithm} logic is saved.\")\n",
    "    \n",
    "#save_model_file(model, algorithm)\n"
   ]
  },
  {
   "cell_type": "markdown",
   "id": "56c9f4a7-9fff-4c59-ae87-20b7a6625244",
   "metadata": {},
   "source": [
    "**if you need to load saved model back:**"
   ]
  },
  {
   "cell_type": "code",
   "execution_count": 2,
   "id": "d37acb71-4551-43cb-9ba1-717e81e1c0df",
   "metadata": {},
   "outputs": [],
   "source": [
    "#def load_saved_model(algorithm):\n",
    "#    if algorithm == \"rf\":\n",
    "#        model = MnistClassifier(algorithm)\n",
    "#        model.classifier.model = joblib.load(f\"{algorithm}_model.pkl\")\n",
    "#    else:\n",
    "#        model = MnistClassifier(algorithm)\n",
    "#        model.classifier.model = load_model(f\"{algorithm}_model.h5\")\n",
    "#    return model\n"
   ]
  },
  {
   "cell_type": "markdown",
   "id": "59139ebf-8206-417d-8b9d-d4e1aeed2b64",
   "metadata": {},
   "source": [
    "**Example**: Load saved cnn, nn or rf model and predict again"
   ]
  },
  {
   "cell_type": "code",
   "execution_count": 20,
   "id": "8ae4f660-6915-480f-a10a-5a88b6c5ea2f",
   "metadata": {},
   "outputs": [
    {
     "name": "stderr",
     "output_type": "stream",
     "text": [
      "WARNING:absl:Compiled the loaded model, but the compiled metrics have yet to be built. `model.compile_metrics` will be empty until you train or evaluate the model.\n"
     ]
    },
    {
     "name": "stdout",
     "output_type": "stream",
     "text": [
      "\u001b[1m313/313\u001b[0m \u001b[32m━━━━━━━━━━━━━━━━━━━━\u001b[0m\u001b[37m\u001b[0m \u001b[1m0s\u001b[0m 289us/step\n",
      "Predictions after loading model: [7 2 1 ... 4 5 6]\n"
     ]
    }
   ],
   "source": [
    "algorithm = \"nn\"\n",
    "saved_model = load_saved_model(algorithm)\n",
    "predictions = saved_model.predict(X_test)\n",
    "print(\"Predictions after loading model:\", predictions)\n"
   ]
  },
  {
   "cell_type": "code",
   "execution_count": null,
   "id": "690b5e51-4c13-4dde-8b15-3b7271c03a39",
   "metadata": {},
   "outputs": [],
   "source": []
  }
 ],
 "metadata": {
  "kernelspec": {
   "display_name": "Python [conda env:base] *",
   "language": "python",
   "name": "conda-base-py"
  },
  "language_info": {
   "codemirror_mode": {
    "name": "ipython",
    "version": 3
   },
   "file_extension": ".py",
   "mimetype": "text/x-python",
   "name": "python",
   "nbconvert_exporter": "python",
   "pygments_lexer": "ipython3",
   "version": "3.12.2"
  }
 },
 "nbformat": 4,
 "nbformat_minor": 5
}
